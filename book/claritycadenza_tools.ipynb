{
 "cells": [
  {
   "cell_type": "markdown",
   "metadata": {
    "id": "H9xz0X7bn6qt"
   },
   "source": [
    "# The GitHub Tools"
   ]
  },
  {
   "cell_type": "markdown",
   "metadata": {},
   "source": [
    "The aim of the Clarity and Cadenza projects is to stimulate progress in speech and music processing for people with hearing loss. The Clarity project aims to improve the intelligibility and quality of speech in noise, while the Cadenza project focuses on the perceived audio quality of music.\n",
    "\n",
    "Both projects organize open machine learning challenges providing a scenario, datasets, tools, and baselines. Due to these similarities and the fact that both projects focus on hearing loss, they share the same code base.\n",
    "\n",
    "The unified codebase allow us to:\n",
    "\n",
    "1. Simplify the maintenance of common elements such as the NAL-R prescription and audiogram structures.\n",
    "2. It offers a unique entry point for newcomers and for people who want to work on speech and/or music for hearing loss."
   ]
  },
  {
   "cell_type": "markdown",
   "metadata": {},
   "source": [
    "## Clarity GitHub Repository"
   ]
  },
  {
   "cell_type": "markdown",
   "metadata": {
    "id": "Pq2bO-rVoEpx"
   },
   "source": [
    "The Clarity and Cadenza challenges tools can be found in the Clarity GitHub repository.\n",
    "![](images/clarity_github.png)"
   ]
  },
  {
   "cell_type": "markdown",
   "source": [
    "## Clarity Module Installation\n",
    "\n",
    "### PyPI\n",
    "\n",
    "Clarity is available on the [Python Package Index (PyPI)](https://pypi.org/project/pyclarity) to install create and/or\n",
    "activate a virtual environment and then use `pip` to install.\n",
    "\n",
    "```bash\n",
    "conda create --name clarity python=3.8\n",
    "conda activate clarity\n",
    "\n",
    "pip install pyclarity\n",
    "```\n",
    "\n",
    "### GitHub Cloning\n",
    "\n",
    "```bash\n",
    "# First clone the repo\n",
    "git clone https://github.com/claritychallenge/clarity.git\n",
    "cd clarity\n",
    "\n",
    "# Second create & activate environment with conda, see https://docs.conda.io/projects/conda/en/latest/user-guide/install/index.html\n",
    "conda create --name clarity python=3.8\n",
    "conda activate clarity\n",
    "\n",
    "# Last install with pip\n",
    "pip install -e .\n",
    "```\n",
    "\n",
    "### GitHub pip install\n",
    "\n",
    "Alternatively `pip` allows you to install packages from GitHub sources directly. The following will install the current\n",
    "`main` branch.\n",
    "\n",
    "```bash\n",
    "pip install -e git+https://github.com/claritychallenge/clarity.git@main\n",
    "```"
   ],
   "metadata": {
    "collapsed": false
   }
  },
  {
   "cell_type": "markdown",
   "source": [
    "## Note\n",
    "\n",
    "The tools and recipes included in the <a href = 'https://github.com/claritychallenge/clarity'>clarity/cadenza challenge repository</a> have been designed so that they can be integrated into python scripts that entrants may use in order to generate custom datasets or to expand the default datasets using new audio or varying data creation parameters. However, for convenience, the baseline clarity tools can be accessed in the command line interface (CLI) via shell scripts."
   ],
   "metadata": {
    "collapsed": false
   }
  }
 ],
 "metadata": {
  "colab": {
   "authorship_tag": "ABX9TyOdXMDNV5sRpqll6X8SIdaE",
   "provenance": []
  },
  "kernelspec": {
   "display_name": "Python 3 (ipykernel)",
   "language": "python",
   "name": "python3"
  },
  "language_info": {
   "codemirror_mode": {
    "name": "ipython",
    "version": 3
   },
   "file_extension": ".py",
   "mimetype": "text/x-python",
   "name": "python",
   "nbconvert_exporter": "python",
   "pygments_lexer": "ipython3",
   "version": "3.10.10"
  }
 },
 "nbformat": 4,
 "nbformat_minor": 1
}
